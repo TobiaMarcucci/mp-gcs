{
 "cells": [
  {
   "cell_type": "code",
   "execution_count": null,
   "id": "4f115611",
   "metadata": {},
   "outputs": [],
   "source": [
    "%matplotlib notebook\n",
    "%load_ext autoreload\n",
    "%autoreload 2\n",
    "\n",
    "import numpy as np\n",
    "import matplotlib.pyplot as plt\n",
    "\n",
    "from pydrake.geometry.optimization import HPolyhedron\n",
    "from pydrake.trajectories import PiecewisePolynomial\n",
    "\n",
    "from spp.bezier import BezierSPP\n",
    "from spp.linear import LinearSPP"
   ]
  },
  {
   "cell_type": "code",
   "execution_count": null,
   "id": "ca8cf67c",
   "metadata": {},
   "outputs": [],
   "source": [
    "from scipy.spatial import ConvexHull\n",
    "\n",
    "def plot_vpolytope(V, **kwargs):\n",
    "    plt.fill(*V.T, **kwargs)\n",
    "    \n",
    "def make_hpolytope(V):\n",
    "    ch = ConvexHull(V)\n",
    "    return HPolyhedron(ch.equations[:, :-1], - ch.equations[:, -1])"
   ]
  },
  {
   "cell_type": "code",
   "execution_count": null,
   "id": "06d39c14",
   "metadata": {},
   "outputs": [],
   "source": [
    "from models.env_2d import obstacles, vertices\n",
    "\n",
    "regions = [make_hpolytope(V) for V in vertices]\n",
    "\n",
    "x_start = np.array([0, 0])\n",
    "x_goal = np.array([2.4, 2.1])"
   ]
  },
  {
   "cell_type": "code",
   "execution_count": null,
   "id": "4971e5b7",
   "metadata": {},
   "outputs": [],
   "source": [
    "plt.figure()\n",
    "\n",
    "for O in obstacles:\n",
    "    plt.fill(*O.T, fc='lightcoral', ec='k', zorder=4)\n",
    "\n",
    "plt.plot(*x_start, 'kx', markersize=10)\n",
    "plt.plot(*x_goal, 'kx', markersize=10)\n",
    "\n",
    "plt.text(.05, -.2, '$q_0$', size=16, ha='center')\n",
    "plt.text(2.35, 1.9, '$q_T$', size=16, ha='center')\n",
    "\n",
    "plt.axis('square')\n",
    "x_min = np.min(np.vstack(vertices), axis=0)\n",
    "x_max = np.max(np.vstack(vertices), axis=0)\n",
    "plt.xlim([x_min[0], x_max[0]])\n",
    "plt.ylim([x_min[1], x_max[1]])\n",
    "\n",
    "x_ticks = np.linspace(-.1, 2.5, 27)\n",
    "y_ticks = np.linspace(-.4, 2.6, 31)\n",
    "plt.xticks(x_ticks)\n",
    "plt.yticks(y_ticks)\n",
    "\n",
    "keep = lambda t: np.isclose(t % .5, 0) or np.isclose(t % .5, .5)\n",
    "x_labels = [round(t, 1) if keep(t) else '' for t in x_ticks]\n",
    "y_labels = [round(t, 1) if keep(t) else '' for t in y_ticks]\n",
    "plt.gca().set_xticklabels(x_labels)\n",
    "plt.gca().set_yticklabels(y_labels)\n",
    "plt.grid(1)\n",
    "plt.savefig('setup.pdf', bbox_inches='tight')"
   ]
  },
  {
   "cell_type": "code",
   "execution_count": null,
   "id": "bc0f718c",
   "metadata": {},
   "outputs": [],
   "source": [
    "plt.figure()\n",
    "\n",
    "for V in vertices:\n",
    "    plot_vpolytope(V, fc='lightcyan', ec='k', zorder=4)\n",
    "\n",
    "plt.axis('square')\n",
    "plt.xlim([x_min[0], x_max[0]])\n",
    "plt.ylim([x_min[1], x_max[1]])\n",
    "\n",
    "plt.xticks(x_ticks)\n",
    "plt.yticks(y_ticks)\n",
    "plt.gca().set_xticklabels(x_labels)\n",
    "plt.gca().set_yticklabels(y_labels)\n",
    "plt.grid(1)\n",
    "\n",
    "plt.savefig('decomposition.pdf', bbox_inches='tight')"
   ]
  },
  {
   "cell_type": "code",
   "execution_count": null,
   "id": "f15083fd",
   "metadata": {},
   "outputs": [],
   "source": [
    "n_samples = 500\n",
    "relaxation = False\n",
    "velocity_limits = np.array([[[-1, -1], [1, 1]]])\n",
    "\n",
    "def solve_linear():\n",
    "    l_spp = LinearSPP(regions)\n",
    "    waypoints, _, _ = l_spp.SolvePath(x_start, x_goal, relaxation)\n",
    "    t_knots = np.linspace(0, 1,  waypoints.shape[1])\n",
    "    l_traj = PiecewisePolynomial.FirstOrderHold(t_knots, waypoints)\n",
    "    l_times = np.linspace(\n",
    "        l_traj.start_time(),\n",
    "        l_traj.end_time(),\n",
    "        n_samples\n",
    "    )\n",
    "    return l_traj, l_times\n",
    "\n",
    "\n",
    "def solve_bezier(order, continuity):\n",
    "    weights = {'time': 1}\n",
    "    b_spp = BezierSPP(regions,\n",
    "                      order=order,\n",
    "                      continuity=continuity,\n",
    "                      weights=weights,\n",
    "                      deriv_limits=velocity_limits)\n",
    "    b_traj, _, _ = b_spp.SolvePath(x_start, x_goal, relaxation)\n",
    "    b_times = np.linspace(\n",
    "        b_traj.start_time(),\n",
    "        b_traj.end_time(),\n",
    "        n_samples\n",
    "    )\n",
    "    return b_traj, b_times"
   ]
  },
  {
   "cell_type": "code",
   "execution_count": null,
   "id": "9a2b3ec7",
   "metadata": {},
   "outputs": [],
   "source": [
    "def plot_trajectory(traj, times):\n",
    "\n",
    "    plt.figure()\n",
    "\n",
    "    for O in obstacles:\n",
    "        plt.fill(*O.T, fc='lightcoral', ec='k', zorder=4)\n",
    "\n",
    "    plt.plot(*x_start, 'kx', markersize=10)\n",
    "    plt.plot(*x_goal, 'kx', markersize=10)\n",
    "\n",
    "    plt.axis('square')\n",
    "    plt.xlim([x_min[0], x_max[0]])\n",
    "    plt.ylim([x_min[1], x_max[1]])\n",
    "\n",
    "    values = np.squeeze([traj.value(t) for t in times])\n",
    "    plt.plot(*values.T, 'b', linewidth=2, zorder=5)\n",
    "\n",
    "    plt.grid(1)\n",
    "    \n",
    "plot_trajectory(*solve_linear())\n",
    "plt.savefig('linear.pdf', bbox_inches='tight')"
   ]
  },
  {
   "cell_type": "code",
   "execution_count": null,
   "id": "0b573d9e",
   "metadata": {},
   "outputs": [],
   "source": [
    "def plot_velocity(traj, times):\n",
    "\n",
    "    plt.figure()\n",
    "    velocity = np.array([traj.EvalDerivative(t) for t in times])\n",
    "    plt.plot(times, np.ones(len(times)), 'r--', label='Limit', linewidth=3)\n",
    "    plt.plot(times, -np.ones(len(times)), 'r--', linewidth=3)\n",
    "    plt.plot(times[1:-1], velocity[1:-1, 0], label='Horizontal')\n",
    "    plt.plot(times[1:-1], velocity[1:-1, 1], label='Vertical')\n",
    "    plt.legend(loc=0)\n",
    "    plt.grid()\n",
    "    plt.xlim([times[0], times[-1]])"
   ]
  },
  {
   "cell_type": "code",
   "execution_count": null,
   "id": "f57d8649",
   "metadata": {},
   "outputs": [],
   "source": [
    "traj, times = solve_bezier(1, 0)\n",
    "\n",
    "plot_trajectory(traj, times)\n",
    "plt.savefig('bezier_10.pdf', bbox_inches='tight')\n",
    "\n",
    "plot_velocity(traj, times)\n",
    "plt.savefig('bezier_10_vel.pdf', bbox_inches='tight')"
   ]
  },
  {
   "cell_type": "code",
   "execution_count": null,
   "id": "8ad9a9dd",
   "metadata": {},
   "outputs": [],
   "source": [
    "traj, times = solve_bezier(3, 1)\n",
    "\n",
    "plot_trajectory(traj, times)\n",
    "plt.savefig('bezier_31.pdf', bbox_inches='tight')\n",
    "\n",
    "plot_velocity(traj, times)\n",
    "plt.savefig('bezier_31_vel.pdf', bbox_inches='tight')"
   ]
  },
  {
   "cell_type": "code",
   "execution_count": null,
   "id": "a324eec6",
   "metadata": {},
   "outputs": [],
   "source": [
    "traj, times = solve_bezier(4, 2)\n",
    "\n",
    "plot_trajectory(traj, times)\n",
    "plt.savefig('bezier_42.pdf', bbox_inches='tight')\n",
    "\n",
    "plot_velocity(traj, times)\n",
    "plt.savefig('bezier_42_vel.pdf', bbox_inches='tight')"
   ]
  }
 ],
 "metadata": {
  "kernelspec": {
   "display_name": "Python 3",
   "language": "python",
   "name": "python3"
  },
  "language_info": {
   "codemirror_mode": {
    "name": "ipython",
    "version": 3
   },
   "file_extension": ".py",
   "mimetype": "text/x-python",
   "name": "python",
   "nbconvert_exporter": "python",
   "pygments_lexer": "ipython3",
   "version": "3.9.10"
  }
 },
 "nbformat": 4,
 "nbformat_minor": 5
}
